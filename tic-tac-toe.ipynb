{
 "cells": [
  {
   "cell_type": "code",
   "execution_count": null,
   "id": "6dd8d931-2ab9-4852-84fe-497d1d74f3d5",
   "metadata": {},
   "outputs": [
    {
     "name": "stdout",
     "output_type": "stream",
     "text": [
      "Welcome to Tic Tac Toe!\n"
     ]
    },
    {
     "name": "stdin",
     "output_type": "stream",
     "text": [
      "Player 1: Do you want to be X or O?  X\n"
     ]
    },
    {
     "name": "stdout",
     "output_type": "stream",
     "text": [
      "Player 2 will go first.\n"
     ]
    },
    {
     "name": "stdin",
     "output_type": "stream",
     "text": [
      "Are you ready to play? Enter Yes or No. Yes\n"
     ]
    },
    {
     "name": "stdout",
     "output_type": "stream",
     "text": [
      " | | \n",
      "-----\n",
      " | | \n",
      "-----\n",
      " | | \n"
     ]
    },
    {
     "name": "stdin",
     "output_type": "stream",
     "text": [
      "Choose your next position: (1-9)  5\n"
     ]
    },
    {
     "name": "stdout",
     "output_type": "stream",
     "text": [
      " | | \n",
      "-----\n",
      " |O| \n",
      "-----\n",
      " | | \n"
     ]
    },
    {
     "name": "stdin",
     "output_type": "stream",
     "text": [
      "Choose your next position: (1-9)  1\n"
     ]
    },
    {
     "name": "stdout",
     "output_type": "stream",
     "text": [
      " | | \n",
      "-----\n",
      " |O| \n",
      "-----\n",
      "X| | \n"
     ]
    },
    {
     "name": "stdin",
     "output_type": "stream",
     "text": [
      "Choose your next position: (1-9)  2\n"
     ]
    },
    {
     "name": "stdout",
     "output_type": "stream",
     "text": [
      " | | \n",
      "-----\n",
      " |O| \n",
      "-----\n",
      "X|O| \n"
     ]
    },
    {
     "name": "stdin",
     "output_type": "stream",
     "text": [
      "Choose your next position: (1-9)  4\n"
     ]
    },
    {
     "name": "stdout",
     "output_type": "stream",
     "text": [
      " | | \n",
      "-----\n",
      "X|O| \n",
      "-----\n",
      "X|O| \n"
     ]
    },
    {
     "name": "stdin",
     "output_type": "stream",
     "text": [
      "Choose your next position: (1-9)  8\n"
     ]
    },
    {
     "name": "stdout",
     "output_type": "stream",
     "text": [
      " |O| \n",
      "-----\n",
      "X|O| \n",
      "-----\n",
      "X|O| \n",
      "Player 2 has won!\n"
     ]
    }
   ],
   "source": [
    "# This project is about creating a tic-tac-toe game with two players.\n",
    "\n",
    "import random\n",
    "\n",
    "# Creates a 3 by 3 board. The board is zero-indexed but displays as if it's 1-9 for user-friendliness\n",
    "\n",
    "def display_board(board):\n",
    "    print(board[6] + '|' + board[7] + '|' + board[8])\n",
    "    print('-----')\n",
    "    print(board[3] + '|' + board[4] + '|' + board[5])\n",
    "    print('-----')\n",
    "    print(board[0] + '|' + board[1] + '|' + board[2])\n",
    "\n",
    "# Allows the player 1 to choose their marker (X or O)\n",
    "\n",
    "def player_input():\n",
    "    marker = ''\n",
    "    while marker not in ['X', 'O']:\n",
    "        marker = input('Player 1: Do you want to be X or O? ').upper()\n",
    "    return ('X', 'O') if marker == 'X' else ('O', 'X')\n",
    "\n",
    "# Takes coordinates as input and put a marker at the corresponding position\n",
    "\n",
    "def place_marker(board, marker, position):\n",
    "    board[position] = marker\n",
    "\n",
    "# Checks if the winning condition (3 in a row in any direction) is completed for a given marker\n",
    "\n",
    "def win_check(board, mark):\n",
    "    return (\n",
    "        (board[6] == mark and board[7] == mark and board[8] == mark) or  # across the top\n",
    "        (board[3] == mark and board[4] == mark and board[5] == mark) or  # across the middle\n",
    "        (board[0] == mark and board[1] == mark and board[2] == mark) or  # across the bottom\n",
    "        (board[6] == mark and board[3] == mark and board[0] == mark) or  # down the left side\n",
    "        (board[7] == mark and board[4] == mark and board[1] == mark) or  # down the middle\n",
    "        (board[8] == mark and board[5] == mark and board[2] == mark) or  # down the right side\n",
    "        (board[6] == mark and board[4] == mark and board[2] == mark) or  # diagonal\n",
    "        (board[8] == mark and board[4] == mark and board[0] == mark)     # diagonal\n",
    "    )\n",
    "\n",
    "# Uses random module to decide which player goes first\n",
    "\n",
    "def choose_first():\n",
    "    return 'Player 2' if random.randint(0, 1) == 0 else 'Player 1'\n",
    "\n",
    "# Checks if a given position is available (ie. there is no mark already on it)\n",
    "\n",
    "def space_check(board, position):\n",
    "    return board[position] == ' '\n",
    "\n",
    "# Checks if the board is full\n",
    "\n",
    "def full_board_check(board):\n",
    "    return not any(space_check(board, i) for i in range(9))\n",
    "\n",
    "# Allows the user to choose where to place their marker\n",
    "\n",
    "def player_choice(board):\n",
    "    position = -1\n",
    "    while position not in range(9) or not space_check(board, position):\n",
    "        try:\n",
    "            position = int(input('Choose your next position: (1-9) ')) - 1\n",
    "        except ValueError:\n",
    "            print(\"Please enter a number.\")\n",
    "    return position\n",
    "\n",
    "# Asks the user if they want to play again\n",
    "\n",
    "def replay():\n",
    "    choice = input('Keep playing? (Y or N): ').upper()\n",
    "    while choice not in ['Y', 'N']:\n",
    "        print(\"Sorry, I don't understand, please choose Y or N\")\n",
    "        choice = input('Keep playing? (Y or N): ').upper()\n",
    "    return choice == 'Y'\n",
    "\n",
    "# Creates the game logic\n",
    "\n",
    "print('Welcome to Tic Tac Toe!')\n",
    "while True:\n",
    "    theBoard = [' '] * 9\n",
    "    player1_marker, player2_marker = player_input()\n",
    "    turn = choose_first()\n",
    "    print(turn + ' will go first.')\n",
    "\n",
    "    play_game = input('Are you ready to play? Enter Yes or No.').strip().lower()\n",
    "    game_on = play_game.startswith('y')\n",
    "\n",
    "    while game_on:\n",
    "        display_board(theBoard)\n",
    "        position = player_choice(theBoard)\n",
    "        place_marker(theBoard, player1_marker if turn == 'Player 1' else player2_marker, position)\n",
    "\n",
    "        if win_check(theBoard, player1_marker if turn == 'Player 1' else player2_marker):\n",
    "            display_board(theBoard)\n",
    "            print(f'{turn} has won!')\n",
    "            game_on = False\n",
    "        elif full_board_check(theBoard):\n",
    "            display_board(theBoard)\n",
    "            print('The game is a draw!')\n",
    "            break\n",
    "        else:\n",
    "            turn = 'Player 2' if turn == 'Player 1' else 'Player 1'\n",
    "\n",
    "    if not replay():\n",
    "        break\n"
   ]
  }
 ],
 "metadata": {
  "kernelspec": {
   "display_name": "Python 3 (ipykernel)",
   "language": "python",
   "name": "python3"
  },
  "language_info": {
   "codemirror_mode": {
    "name": "ipython",
    "version": 3
   },
   "file_extension": ".py",
   "mimetype": "text/x-python",
   "name": "python",
   "nbconvert_exporter": "python",
   "pygments_lexer": "ipython3",
   "version": "3.12.3"
  }
 },
 "nbformat": 4,
 "nbformat_minor": 5
}
